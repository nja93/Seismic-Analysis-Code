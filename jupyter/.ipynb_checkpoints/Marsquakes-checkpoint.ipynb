{
 "cells": [
  {
   "cell_type": "markdown",
   "id": "ff101c4a",
   "metadata": {},
   "source": [
    "<b>InSight</b>\n",
    "<p>This was an incredible project that was geared towards better understanding Mars. Some of the phenomena that was being studied were the impacts of meteors on groundwater, subsurface structure of Mars, it's magnetic fields as well as the detection of earthquakes.</p>"
   ]
  },
  {
   "cell_type": "code",
   "execution_count": 7,
   "id": "bde8e0f6",
   "metadata": {},
   "outputs": [],
   "source": [
    "from datetime import datetime\n",
    "from datetime import timedelta\n",
    "from obspy import read_events"
   ]
  },
  {
   "cell_type": "code",
   "execution_count": 8,
   "id": "5ed224b2",
   "metadata": {},
   "outputs": [],
   "source": [
    "R1 = datetime(2022, 5, 4, 23, 35, 58)\n",
    "R2 = datetime(2022, 5, 5, 1, 14, 5)\n",
    "R3 = datetime(2022, 5, 5, 1, 38, 57)"
   ]
  },
  {
   "cell_type": "code",
   "execution_count": 9,
   "id": "e53c1246",
   "metadata": {},
   "outputs": [],
   "source": [
    "event_time=datetime(2022, 5, 4, 0, 0, 0)"
   ]
  },
  {
   "cell_type": "code",
   "execution_count": 10,
   "id": "b1726332",
   "metadata": {},
   "outputs": [],
   "source": [
    "T = (R3 - R2) / 2"
   ]
  },
  {
   "cell_type": "code",
   "execution_count": 11,
   "id": "21eb4d04",
   "metadata": {},
   "outputs": [],
   "source": [
    "origin = R1 - T"
   ]
  },
  {
   "cell_type": "code",
   "execution_count": 14,
   "id": "6483b003",
   "metadata": {},
   "outputs": [
    {
     "name": "stdout",
     "output_type": "stream",
     "text": [
      "2022-05-04 23:23:32\n"
     ]
    }
   ],
   "source": [
    "print(origin)"
   ]
  },
  {
   "cell_type": "code",
   "execution_count": 17,
   "id": "4c74ffe0",
   "metadata": {},
   "outputs": [],
   "source": [
    "Tcircle = R3 - R1"
   ]
  },
  {
   "cell_type": "code",
   "execution_count": 19,
   "id": "23a5058c",
   "metadata": {},
   "outputs": [
    {
     "data": {
      "text/plain": [
       "0.000851063829787234"
      ]
     },
     "execution_count": 19,
     "metadata": {},
     "output_type": "execute_result"
    }
   ],
   "source": [
    "pi =3.14\n",
    "V = 2 * pi / (Tcircle.seconds)\n",
    "V"
   ]
  },
  {
   "cell_type": "code",
   "execution_count": 21,
   "id": "c567bab4",
   "metadata": {},
   "outputs": [
    {
     "data": {
      "text/plain": [
       "0.6348936170212766"
      ]
     },
     "execution_count": 21,
     "metadata": {},
     "output_type": "execute_result"
    }
   ],
   "source": [
    "D = V * T.seconds\n",
    "D"
   ]
  },
  {
   "cell_type": "code",
   "execution_count": 22,
   "id": "931a5b05",
   "metadata": {},
   "outputs": [
    {
     "data": {
      "text/plain": [
       "2152.2893617021277"
      ]
     },
     "execution_count": 22,
     "metadata": {},
     "output_type": "execute_result"
    }
   ],
   "source": [
    "Rmars=3390\n",
    "Dkm=D*Rmars\n",
    "Dkm"
   ]
  },
  {
   "cell_type": "code",
   "execution_count": 23,
   "id": "67808636",
   "metadata": {},
   "outputs": [],
   "source": [
    "catalog = read_events('https://service.iris.edu/irisws/mars-event/1/query')\n"
   ]
  },
  {
   "cell_type": "code",
   "execution_count": 24,
   "id": "b698f756",
   "metadata": {},
   "outputs": [
    {
     "data": {
      "text/plain": [
       "2715 Event(s) in Catalog:\n",
       "2022-11-19T21:53:34.000000Z |  +4.502, +135.623 | 3.3  MW | manual\n",
       "2022-08-31T20:23:46.685600Z |  +4.502, +135.623 | 3.3  MW | manual\n",
       "...\n",
       "2019-01-13T05:53:45.000000Z |  +4.502, +135.623 | automatic\n",
       "2019-01-12T05:09:39.000000Z |  +4.502, +135.623 | automatic\n",
       "To see all events call 'print(CatalogObject.__str__(print_all=True))'"
      ]
     },
     "execution_count": 24,
     "metadata": {},
     "output_type": "execute_result"
    }
   ],
   "source": [
    "\n",
    "\n",
    "\n",
    "\n",
    "catalog"
   ]
  },
  {
   "cell_type": "code",
   "execution_count": null,
   "id": "f4c6b1e8",
   "metadata": {},
   "outputs": [],
   "source": [
    "\n",
    "\n",
    "\n",
    "\n",
    "\n",
    "\n",
    "\n",
    "\n",
    "\n",
    "\n",
    "\n",
    "\n",
    "\n",
    "\n",
    "\n",
    "\n"
   ]
  },
  {
   "cell_type": "code",
   "execution_count": null,
   "id": "ea8f4cf7",
   "metadata": {},
   "outputs": [],
   "source": []
  }
 ],
 "metadata": {
  "kernelspec": {
   "display_name": "iris",
   "language": "python",
   "name": "python3"
  },
  "language_info": {
   "codemirror_mode": {
    "name": "ipython",
    "version": 3
   },
   "file_extension": ".py",
   "mimetype": "text/x-python",
   "name": "python",
   "nbconvert_exporter": "python",
   "pygments_lexer": "ipython3",
   "version": "3.11.9"
  }
 },
 "nbformat": 4,
 "nbformat_minor": 5
}
