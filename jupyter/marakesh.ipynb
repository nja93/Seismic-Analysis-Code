{
 "cells": [
  {
   "cell_type": "markdown",
   "id": "59acf74c",
   "metadata": {},
   "source": [
    "<B>The 6.3 Magnitude L'Aquila Earthquake on April 6, 2009 in Central Italy</B> This was a Mag-6.3 event which was preceded by a smaller 4.1 event about a week prior. Subsequent seismic activity followed for days with 2 notable ones being above a  Mag-5.0. The devastation was extensive as several buildings collapsed, property and infrastructure was damaged and a total of 308 people lost their lives.<img src=https://upload.wikimedia.org/wikipedia/commons/e/e2/20090406_013242_umbria_quake_intensity.jpg>"
   ]
  },
  {
   "cell_type": "code",
   "execution_count": 2,
   "id": "6d7b0750",
   "metadata": {},
   "outputs": [],
   "source": [
    "import matplotlib.pyplot as plt\n",
    "import matplotlib.dates as mdates\n",
    "from obspy import UTCDateTime\n",
    "from obspy.clients.fdsn import Client\n",
    "client = Client(\"IRIS\")"
   ]
  },
  {
   "cell_type": "markdown",
   "id": "3eb0ee5c",
   "metadata": {},
   "source": [
    "<b>SET SEARCH PARAMETERS HERE</b>\n",
    "The following sets of code will set the variables for our earthquake catalogue search"
   ]
  },
  {
   "cell_type": "code",
   "execution_count": 3,
   "id": "c2424674",
   "metadata": {},
   "outputs": [],
   "source": [
    "maxrad = 1.0 \n",
    "lon = -8.407\n",
    "lat = 31.073\n",
    "minmag = 2.0\n",
    "startt = UTCDateTime(\"2013-09-08\") \n",
    "endt = UTCDateTime(\"2023-09-08\")"
   ]
  },
  {
   "cell_type": "markdown",
   "id": "668dbffc",
   "metadata": {},
   "source": [
    "Now to get the events, this will take a few minutes"
   ]
  },
  {
   "cell_type": "code",
   "execution_count": 4,
   "id": "8fe89c4c",
   "metadata": {},
   "outputs": [],
   "source": [
    "cat = client.get_events(starttime=startt, endtime=endt, latitude=lat, longitude=lon, maxradius=maxrad, minmagnitude=minmag, catalog=\"ISC\")"
   ]
  },
  {
   "cell_type": "code",
   "execution_count": 5,
   "id": "9e2f6231",
   "metadata": {},
   "outputs": [
    {
     "name": "stdout",
     "output_type": "stream",
     "text": [
      "17 Event(s) in Catalog:\n",
      "2015-07-21T00:22:43.700000Z | +31.715,   -9.224 | 2.2  ML\n",
      "2015-07-06T13:49:41.450000Z | +31.599,   -9.097 | 2.0  ml\n",
      "...\n",
      "2013-10-17T19:31:41.440000Z | +30.345,   -8.116 | 2.3  ml\n",
      "2013-09-25T01:20:53.100000Z | +31.047,   -8.459 | 2.1  ml\n",
      "To see all events call 'print(CatalogObject.__str__(print_all=True))'\n"
     ]
    }
   ],
   "source": [
    "print (cat)"
   ]
  },
  {
   "cell_type": "markdown",
   "id": "2201e120",
   "metadata": {},
   "source": [
    "Create columns that will contain 2 data sets, Origin times and Magnitude. We will initiate them as empty lists using [] symbols and then loop through each event n the catalogue."
   ]
  },
  {
   "cell_type": "code",
   "execution_count": 6,
   "id": "b0e2896b",
   "metadata": {},
   "outputs": [
    {
     "name": "stdout",
     "output_type": "stream",
     "text": [
      "2015-06-15 12:19:13.650000 2.1\n"
     ]
    }
   ],
   "source": [
    "times = []\n",
    "mags = []\n",
    "for event in cat:\n",
    "    times.append(event.origins[0].time.datetime)\n",
    "    mags.append(event.magnitudes[0].mag)\n",
    "print (times[4],mags[4])"
   ]
  },
  {
   "cell_type": "code",
   "execution_count": 7,
   "id": "e84bb5ca",
   "metadata": {},
   "outputs": [],
   "source": [
    "mtimes = mdates.date2num(times) "
   ]
  },
  {
   "cell_type": "code",
   "execution_count": 8,
   "id": "e3afc551",
   "metadata": {},
   "outputs": [
    {
     "name": "stdout",
     "output_type": "stream",
     "text": [
      "16601.513352430557 2.1\n"
     ]
    }
   ],
   "source": [
    "print (mtimes[4],mags[4])"
   ]
  },
  {
   "cell_type": "markdown",
   "id": "dcee208d",
   "metadata": {},
   "source": [
    "We will create a plot that shows the magnitude of all earthquakes in the catalogue over time"
   ]
  },
  {
   "cell_type": "code",
   "execution_count": 9,
   "id": "0c382a53",
   "metadata": {},
   "outputs": [
    {
     "name": "stderr",
     "output_type": "stream",
     "text": [
      "/tmp/ipykernel_2031/3582602023.py:2: UserWarning: marker is redundantly defined by the 'marker' keyword argument and the fmt string \"o\" (-> marker='o'). The keyword argument will take precedence.\n",
      "  plt.plot_date(mtimes,mags,marker='.')\n"
     ]
    },
    {
     "data": {
      "image/png": "[encoded data removed]",
      "text/plain": [
       "<Figure size 640x480 with 1 Axes>"
      ]
     },
     "metadata": {},
     "output_type": "display_data"
    }
   ],
   "source": [
    "fig1 = plt.subplots(1,1)\n",
    "plt.plot_date(mtimes,mags,marker='.') \n",
    "plt.show()"
   ]
  },
  {
   "cell_type": "markdown",
   "id": "3d85ca03",
   "metadata": {},
   "source": [
    "AS observed, there was no usual seismic activity in the weeks leading up to the 2009 event"
   ]
  },
  {
   "cell_type": "markdown",
   "id": "446189a5",
   "metadata": {},
   "source": [
    "Let us take a closer look at the seimicity in the days leading up ot the event"
   ]
  },
  {
   "cell_type": "code",
   "execution_count": 10,
   "id": "ac1d29d1",
   "metadata": {},
   "outputs": [
    {
     "data": {
      "image/png": "[encoded data removed]",
      "text/plain": [
       "<Figure size 640x480 with 1 Axes>"
      ]
     },
     "metadata": {},
     "output_type": "display_data"
    }
   ],
   "source": [
    "\n",
    "\n",
    "\n",
    "fig2, axes = plt.subplots(1,1) \n",
    "axes.hist(mtimes, bins=120)\n",
    "axes.xaxis.set_major_locator(mdates.YearLocator())\n",
    "axes.xaxis.set_major_formatter(mdates.DateFormatter('%Y'))\n",
    "plt.show()"
   ]
  },
  {
   "cell_type": "code",
   "execution_count": 43,
   "id": "da58bdec",
   "metadata": {},
   "outputs": [],
   "source": []
  },
  {
   "cell_type": "code",
   "execution_count": null,
   "id": "e2b64450",
   "metadata": {},
   "outputs": [],
   "source": []
  }
 ],
 "metadata": {
  "kernelspec": {
   "display_name": "iris",
   "language": "python",
   "name": "python3"
  },
  "language_info": {
   "codemirror_mode": {
    "name": "ipython",
    "version": 3
   },
   "file_extension": ".py",
   "mimetype": "text/x-python",
   "name": "python",
   "nbconvert_exporter": "python",
   "pygments_lexer": "ipython3",
   "version": "3.11.9"
  }
 },
 "nbformat": 4,
 "nbformat_minor": 5
}
